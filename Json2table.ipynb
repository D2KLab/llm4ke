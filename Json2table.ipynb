{
 "cells": [
  {
   "cell_type": "code",
   "execution_count": 1,
   "id": "fc434813-1d83-42e0-b910-a48753d41cb9",
   "metadata": {},
   "outputs": [
    {
     "data": {
      "text/plain": [
       "{'onto': 'Odeuropa',\n",
       " 'llm': 'dpo',\n",
       " 'mode': 'logic',\n",
       " 'examples': '0',\n",
       " 'score': 0.0}"
      ]
     },
     "execution_count": 1,
     "metadata": {},
     "output_type": "execute_result"
    }
   ],
   "source": [
    "import json\n",
    "with open('results_all.json') as f:\n",
    "    res =  json.load(f)\n",
    "res[0]"
   ]
  },
  {
   "cell_type": "code",
   "execution_count": 2,
   "id": "656cd31a-e470-4f38-a9b3-f6db15c9777e",
   "metadata": {},
   "outputs": [],
   "source": [
    "from IPython.display import display, Markdown"
   ]
  },
  {
   "cell_type": "code",
   "execution_count": 3,
   "id": "dd7445df-7770-4c2c-b24a-12d186ec6f59",
   "metadata": {},
   "outputs": [
    {
     "data": {
      "text/plain": [
       "['dpo', 'sol', 'solar', 'una', 'unao', 'zeph', 'zephyr']"
      ]
     },
     "execution_count": 3,
     "metadata": {},
     "output_type": "execute_result"
    }
   ],
   "source": [
    "llms = set([x['llm'] for x in res])\n",
    "llms = sorted(llms)\n",
    "llms"
   ]
  },
  {
   "cell_type": "code",
   "execution_count": 4,
   "id": "106a0b59-cb7d-4ea2-a9a5-c0f2f04210fe",
   "metadata": {},
   "outputs": [
    {
     "data": {
      "text/plain": [
       "['DOREMUS', 'DemCare', 'Odeuropa']"
      ]
     },
     "execution_count": 4,
     "metadata": {},
     "output_type": "execute_result"
    }
   ],
   "source": [
    "ontos = set([x['onto'] for x in res])\n",
    "ontos = sorted(ontos)\n",
    "ontos"
   ]
  },
  {
   "cell_type": "code",
   "execution_count": 5,
   "id": "ab7d7f84-a31b-4412-a97f-1cafd48f29c6",
   "metadata": {},
   "outputs": [
    {
     "data": {
      "text/plain": [
       "['0', '3']"
      ]
     },
     "execution_count": 5,
     "metadata": {},
     "output_type": "execute_result"
    }
   ],
   "source": [
    "examples = set([x['examples'] for x in res])\n",
    "examples = sorted(examples)\n",
    "examples"
   ]
  },
  {
   "cell_type": "code",
   "execution_count": 39,
   "id": "168a1b1e-fbf6-4f95-9fc1-3ab36dd4ac7d",
   "metadata": {},
   "outputs": [
    {
     "data": {
      "text/plain": [
       "['all_classes', 'classes_and_properties', 'logic']"
      ]
     },
     "execution_count": 39,
     "metadata": {},
     "output_type": "execute_result"
    }
   ],
   "source": [
    "modes = set([x['mode'] for x in res])\n",
    "modes = sorted(modes)\n",
    "short_modes = ['C', 'P', 'L']\n",
    "modes"
   ]
  },
  {
   "cell_type": "code",
   "execution_count": 40,
   "id": "46bf58f4-bf17-4184-b393-996f1c22f9bc",
   "metadata": {},
   "outputs": [
    {
     "data": {
      "text/markdown": [
       "\n",
       "| Ontology | Ex | dpo | . | . |sol | . | . |solar | . | . |una | . | . |unao | . | . |zeph | . | . |zephyr | . | . \n",
       "|----------| -- | ---|---|----|---|---|----|---|---|----|---|---|----|---|---|----|---|---|----|---|---|----\n",
       "|          |    | C|P|L|C|P|L|C|P|L|C|P|L|C|P|L|C|P|L|C|P|L\n",
       "|----------| -- | ---|---|----|---|---|----|---|---|----|---|---|----|---|---|----|---|---|----|---|---|----\n",
       "|DOREMUS|0|0.00 |0.00 |0.00 |0.00 ||0.00 ||0.00 ||0.00 |0.03 |0.05 |||||0.01 ||0.01 ||0.00 |\n",
       "|DOREMUS|3|0.03 |0.04 |0.01 |0.00 ||0.07 ||0.12 ||0.09 |0.15 |0.12 |||||0.58 ||0.03 ||0.56 |\n",
       "|DemCare|0|||0.00 |||||||||0.00 ||||||||||\n",
       "|DemCare|3|||0.04 |||||||||0.27 |||0.27 |||||||\n",
       "|Odeuropa|0|0.70 |0.30 |0.00 |0.00 |0.00 ||||0.20 |0.50 |0.00 |0.64 |||||||0.90 |1.00 |0.00 |\n",
       "|Odeuropa|3|0.75 |0.82 |1.00 |0.00 |0.30 ||||0.30 |1.00 |0.70 |1.00 |||||||0.40 |0.00 |1.00 |\n"
      ],
      "text/plain": [
       "<IPython.core.display.Markdown object>"
      ]
     },
     "metadata": {},
     "output_type": "display_data"
    }
   ],
   "source": [
    "table = f'''\n",
    "| Ontology | Ex | {\"|\".join([l + ' | . | . ' for l in llms])}\n",
    "|----------| -- | {\"|\".join(['---|---|----'for x in llms])}\n",
    "|          |    | {\"|\".join([\"|\".join(short_modes) for l in llms])}\n",
    "|----------| -- | {\"|\".join(['---|---|----'for x in llms])}\n",
    "'''\n",
    "\n",
    "for o in ontos:\n",
    "    part = [x for x in res if x['onto'] == o]\n",
    "\n",
    "    for ex in examples:\n",
    "        line = '|' + o + '|' + ex + '|'\n",
    "\n",
    "        for l in llms:\n",
    "            for m in modes:\n",
    "                score = [x['score'] for x in part \n",
    "                         if x['llm'] == l and x['examples'] == ex and x['mode']== m]\n",
    "                if len(score) == 0:\n",
    "                    line += '' + '|'\n",
    "                else:\n",
    "                    line +=  '%.2f |' % score[0]\n",
    "        table += line + '\\n'\n",
    "\n",
    "display(Markdown(table))"
   ]
  },
  {
   "cell_type": "code",
   "execution_count": 45,
   "id": "f78439c0-98f5-4219-8cf6-5cdfac77bfab",
   "metadata": {},
   "outputs": [
    {
     "ename": "SyntaxError",
     "evalue": "f-string expression part cannot include a backslash (747851812.py, line 3)",
     "output_type": "error",
     "traceback": [
      "\u001b[0;36m  Cell \u001b[0;32mIn[45], line 3\u001b[0;36m\u001b[0m\n\u001b[0;31m    '''\u001b[0m\n\u001b[0m       ^\u001b[0m\n\u001b[0;31mSyntaxError\u001b[0m\u001b[0;31m:\u001b[0m f-string expression part cannot include a backslash\n"
     ]
    }
   ],
   "source": [
    "table = f'''\n",
    "\\begin\\{tabular\\}\\{ll{['c' for l in llms])}\\\\}\n",
    "'''\n",
    "\n",
    "'''\n",
    "\\hline\n",
    " &  & {\"&\".join(['\\multicolumn{3}{c}{%s}' % l for l in llms])} \\\\ \\hline\n",
    "\\textbf{Ontology} & \\textbf{Ex} & {\"&\".join([\"&\".join(short_modes) % l for l in llms])} \\\\ \\hline\n",
    "\n",
    "# for o in ontos:\n",
    "#     part = [x for x in res if x['onto'] == o]\n",
    "\n",
    "#     for ex in examples:\n",
    "#         line = '|' + o + '|' + ex + '|'\n",
    "\n",
    "#         for l in llms:\n",
    "#             for m in modes:\n",
    "#                 score = [x['score'] for x in part \n",
    "#                          if x['llm'] == l and x['examples'] == ex and x['mode']== m]\n",
    "#                 if len(score) == 0:\n",
    "#                     line += '' + '|'\n",
    "#                 else:\n",
    "#                     line +=  '%.2f |' % score[0]\n",
    "#         table += line + '\\n'\n",
    "\n",
    "table += '\\end{tabular}'\n",
    "\n",
    "print(table)"
   ]
  },
  {
   "cell_type": "code",
   "execution_count": null,
   "id": "a1b49796-45e6-4b36-9f18-2951a1f3b2ca",
   "metadata": {},
   "outputs": [],
   "source": []
  }
 ],
 "metadata": {
  "kernelspec": {
   "display_name": "Python 3 (ipykernel)",
   "language": "python",
   "name": "python3"
  },
  "language_info": {
   "codemirror_mode": {
    "name": "ipython",
    "version": 3
   },
   "file_extension": ".py",
   "mimetype": "text/x-python",
   "name": "python",
   "nbconvert_exporter": "python",
   "pygments_lexer": "ipython3",
   "version": "3.11.6"
  }
 },
 "nbformat": 4,
 "nbformat_minor": 5
}
